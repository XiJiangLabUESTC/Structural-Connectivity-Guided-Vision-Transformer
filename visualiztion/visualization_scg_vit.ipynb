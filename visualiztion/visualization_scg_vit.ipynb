{
 "cells": [
  {
   "cell_type": "code",
   "execution_count": 1,
   "metadata": {},
   "outputs": [],
   "source": [
    "import timm\n",
    "import torch\n",
    "from timm.models.vision_transformer import VisionTransformer\n",
    "from torch.utils.data import Dataset,DataLoader\n",
    "import random\n",
    "import scipy.io as scio\n",
    "from timm.scheduler.cosine_lr import CosineLRScheduler\n",
    "import warnings\n",
    "import numpy as np\n",
    "warnings.filterwarnings('ignore')\n",
    "import os\n",
    "import cv2"
   ]
  },
  {
   "cell_type": "code",
   "execution_count": 2,
   "metadata": {},
   "outputs": [],
   "source": [
    "class MyDataset(Dataset):\n",
    "    def __init__(self,data,topk=10):\n",
    "        self.data=data\n",
    "        self.topk=topk\n",
    "        self.label={\n",
    "            'T-T':2,\n",
    "            'P-T':1,\n",
    "            'P-P':0\n",
    "        }\n",
    "\n",
    "    def __len__(self):\n",
    "        return len(self.data)\n",
    "\n",
    "    def __getitem__(self, idx):\n",
    "        path_1,label=self.data[idx]\n",
    "        image=scio.loadmat(path_1)['fc'] #load FC\n",
    "        image=torch.from_numpy(image).float()\n",
    "\n",
    "        path_2=path_1.replace('fc','sc')\n",
    "        mask=scio.loadmat(path_2)['sc']  #load SC\n",
    "        mask=mask*1.0\n",
    "        mask=torch.from_numpy(mask)\n",
    "        mask=mask.sum(dim=1)\n",
    "        _,index=torch.topk(mask,10)   \n",
    "        mask=torch.tensor([i in index for i in range(64)])\n",
    "        \n",
    "        label=torch.tensor(self.label[label])\n",
    "        return image,mask,label"
   ]
  },
  {
   "cell_type": "code",
   "execution_count": 3,
   "metadata": {},
   "outputs": [],
   "source": [
    "with open('your subject list.txt','r') as f:  #load subject list\n",
    "    data=f.readlines()\n",
    "data=[item.replace('\\n','').split('\\t') for item in data]\n",
    "random.seed(2022)\n",
    "random.shuffle(data)\n",
    "\n",
    "dataset=MyDataset(data)\n",
    "dataloader=DataLoader(dataset,1)"
   ]
  },
  {
   "cell_type": "code",
   "execution_count": 4,
   "metadata": {},
   "outputs": [],
   "source": [
    "class MaskViT(VisionTransformer):\n",
    "    def __init__(self,layer=None):\n",
    "        super().__init__(patch_size=16, embed_dim=384, depth=12, num_heads=6,num_classes=3)\n",
    "        if layer is None:\n",
    "            self.layer=11\n",
    "        else:\n",
    "            self.layer=layer\n",
    "\n",
    "    def forward_with_mask(self,x,mask):\n",
    "\n",
    "        x = self.patch_embed(x)\n",
    "        #（B,N,C)\n",
    "        B,num_patches=x.shape[0],x.shape[1]\n",
    "        mask_size=mask.sum()//x.shape[0]\n",
    "        cls_token = self.cls_token.expand(x.shape[0], -1, -1)  # cls_tokens impl from Phil Wang, thanks\n",
    "        # (B,1,C)\n",
    "        if self.dist_token is None:\n",
    "            x = torch.cat((cls_token, x), dim=1)\n",
    "            cls_token_nums=1\n",
    "        x = self.pos_drop(x + self.pos_embed)\n",
    "        res_x = torch.masked_select(x[:,cls_token_nums:,:],mask.reshape(x.shape[0],x.shape[1]-cls_token_nums,1))\n",
    "        # (B*mask_size,C)\n",
    "        res_x = res_x.reshape(x.shape[0],mask.sum()//x.shape[0],-1)\n",
    "        # (B,mask_size,C)\n",
    "        res_x = torch.cat((cls_token,res_x),dim=1)\n",
    "        #(B,mask_size+1,C)\n",
    "        for i in range(self.layer):\n",
    "            res_x=self.blocks[i](res_x)\n",
    "\n",
    "\n",
    "        index=torch.range(0,x.shape[0]*(x.shape[1]-cls_token_nums)-1,dtype=torch.int64,device=mask.device)\n",
    "        index=index.reshape(x.shape[0],-1)\n",
    "        index=torch.masked_select(index,mask.reshape(x.shape[0],-1))\n",
    "\n",
    "        cls_token = res_x[:,:cls_token_nums,:]\n",
    "        res_x = res_x[:,cls_token_nums:,:]\n",
    "        # (b,patch_nums+1)->(n,patch_nums)\n",
    "        res_x = res_x.reshape(B*mask_size,-1)\n",
    "        x = x[:,cls_token_nums:,:]\n",
    "        x = x.reshape(x.shape[0]*num_patches,-1)\n",
    "        x = x.index_add_(0,index,res_x)\n",
    "        x = x.reshape(B,num_patches,-1)\n",
    "        x = torch.cat((cls_token,x),dim=1)\n",
    "        for i in range(self.layer,len(self.blocks)):\n",
    "            x = self.blocks[i](x)\n",
    "        x = self.norm(x)\n",
    "        return self.head(x[:,0])\n",
    "        \n",
    "mymodel=MaskViT(6) #add to the last layer, can change\n",
    "ViTmodel=timm.create_model('vit_small_patch16_224',pretrained=True,num_classes=3)\n",
    "pretrain_weight=ViTmodel.state_dict()\n",
    "mymodel.load_state_dict(pretrain_weight)\n",
    "mymodel.patch_embed=torch.nn.Linear(64,384)\n",
    "mymodel.pos_embed=torch.nn.Parameter(torch.zeros(1, 64+1, 384))"
   ]
  },
  {
   "cell_type": "code",
   "execution_count": 5,
   "metadata": {},
   "outputs": [],
   "source": [
    "# 定义获取梯度的函数\n",
    "def backward_hook(module, grad_in, grad_out):\n",
    "    grad_block.append(grad_out[0].clone().detach())\n",
    "\n",
    "# 定义获取特征图的函数\n",
    "def forward_hook(module, input, output):\n",
    "    feature_block.append(output)"
   ]
  },
  {
   "cell_type": "code",
   "execution_count": 6,
   "metadata": {},
   "outputs": [
    {
     "data": {
      "text/plain": [
       "<torch.utils.hooks.RemovableHandle at 0x7f3160232290>"
      ]
     },
     "execution_count": 6,
     "metadata": {},
     "output_type": "execute_result"
    }
   ],
   "source": [
    "mymodel.load_state_dict(torch.load('well_trained_scg_vit.pth'))\n",
    "device=torch.device('cpu')\n",
    "model=mymodel.to(device)\n",
    "model.patch_embed.register_forward_hook(forward_hook)\n",
    "model.patch_embed.register_backward_hook(backward_hook)"
   ]
  },
  {
   "cell_type": "code",
   "execution_count": 7,
   "metadata": {},
   "outputs": [],
   "source": [
    "# forward \n",
    "# 在前向推理时，会生成特征图和预测值\n",
    "grads_val_mean=0.\n",
    "feature_map_mean=0.\n",
    "for fc,mask,label in dataloader:\n",
    "    grad_block=[]\n",
    "    feature_block=[]\n",
    "    fc=fc.to(device)\n",
    "    mask=mask.to(device)\n",
    "    fc.requires_grad=True\n",
    "    pred = model(fc)\n",
    "    max_idx = np.argmax(pred.cpu().data.numpy())\n",
    "    # print(\"predict:{}\".format(max_idx))\n",
    "\n",
    "    # backward\n",
    "    model.zero_grad()\n",
    "    # 取最大类别的值作为loss，这样计算的结果是模型对该类最感兴趣的cam图\n",
    "    class_loss = pred[0, max_idx]\t\n",
    "    class_loss.backward()\t# 反向梯度，得到梯度图\n",
    "\n",
    "    # grads\n",
    "    grads_val = grad_block[0].cpu().data.squeeze()\n",
    "    feature_map = feature_block[0].cpu().data.squeeze()\n",
    "\n",
    "    grads_val_mean=grads_val_mean+grads_val\n",
    "    feature_map_mean=feature_map_mean+feature_map\n",
    "\n",
    "grads_val_mean=grads_val_mean/len(dataloader)\n",
    "feature_map_mean=feature_map/len(dataloader) "
   ]
  },
  {
   "cell_type": "code",
   "execution_count": 8,
   "metadata": {},
   "outputs": [
    {
     "data": {
      "text/plain": [
       "<matplotlib.colorbar.Colorbar at 0x7f2f90060f50>"
      ]
     },
     "execution_count": 8,
     "metadata": {},
     "output_type": "execute_result"
    },
    {
     "data": {
      "image/png": "[encoded data removed]",
      "text/plain": [
       "<Figure size 432x288 with 2 Axes>"
      ]
     },
     "metadata": {
      "needs_background": "light"
     },
     "output_type": "display_data"
    }
   ],
   "source": [
    "# print(grads_val_mean.shape)\n",
    "linear_w=mymodel.patch_embed.weight.detach() #(384,64)\n",
    "# print(linear_w.shape)\n",
    "linear_b=mymodel.patch_embed.bias.detach()\n",
    "# print(linear_b.shape)\n",
    "\n",
    "# linear_W_Rinv=linear_W * ((linear_W.t() * linear_W).inverse())\n",
    "out1=torch.mm(linear_w.t(),linear_w) #(64,64)   torch.mm(A,B) means matrix A multiply matrix B\n",
    "linear_w_Rinv=torch.mm(linear_w,out1.inverse()) #(384,64)\n",
    "input_x=torch.mm(grads_val_mean,linear_w_Rinv) - torch.mm(linear_b.repeat(64,1),linear_w_Rinv)\n",
    "# print(input_x)\n",
    "\n",
    "import matplotlib.pyplot as plt\n",
    "plt.imshow(input_x,cmap = plt.cm.jet)\n",
    "plt.colorbar()"
   ]
  }
 ],
 "metadata": {
  "kernelspec": {
   "display_name": "base",
   "language": "python",
   "name": "python3"
  },
  "language_info": {
   "codemirror_mode": {
    "name": "ipython",
    "version": 3
   },
   "file_extension": ".py",
   "mimetype": "text/x-python",
   "name": "python",
   "nbconvert_exporter": "python",
   "pygments_lexer": "ipython3",
   "version": "3.9.12"
  },
  "orig_nbformat": 4,
  "vscode": {
   "interpreter": {
    "hash": "ad2bdc8ecc057115af97d19610ffacc2b4e99fae6737bb82f5d7fb13d2f2c186"
   }
  }
 },
 "nbformat": 4,
 "nbformat_minor": 2
}
