{
 "cells": [
  {
   "cell_type": "code",
   "execution_count": null,
   "metadata": {},
   "outputs": [],
   "source": [
    "import torch\n",
    "import numpy as np\n",
    "import pandas as pd\n",
    "import random\n",
    "import matplotlib.pyplot as plt\n",
    "from sklearn.tree import DecisionTreeClassifier\n",
    "from sklearn.ensemble import RandomForestClassifier\n",
    "# import h5py\n",
    "import scipy.io as scio\n",
    "from sklearn.metrics import confusion_matrix, accuracy_score, classification_report\n"
   ]
  },
  {
   "cell_type": "code",
   "execution_count": null,
   "metadata": {},
   "outputs": [],
   "source": [
    "X = []  # 定义图像名称\n",
    "Y = []  # 定义图像分类类标\n",
    "\n",
    "with open('fc_list.txt','r') as f:\n",
    "    data=f.readlines()\n",
    "data=[item.replace('\\n','').split('\\t') for item in data]\n",
    "random.seed(2022)\n",
    "random.shuffle(data)\n",
    "result_index_matrix=torch.zeros(5,3,3)\n",
    "result=[]\n",
    "\n",
    "k_fold=5\n",
    "for kk in range(k_fold):\n",
    "    k_fold_len = int(len(data)//k_fold)\n",
    "    test_data = data[k_fold_len*kk:k_fold_len*(kk+1)]\n",
    "    train_data = data[:k_fold_len*kk] + data[k_fold_len*(kk+1):]\n",
    "\n",
    "    X_train=[x[0] for x in train_data]\n",
    "    y_train=[x[1] for x in train_data]\n",
    "    X_test=[x[0] for x in test_data]\n",
    "    y_test=[x[1] for x in test_data]\n",
    "    X_train=np.array(X_train)\n",
    "    y_train=np.array(y_train)\n",
    "    X_test=np.array(X_test)\n",
    "    y_test=np.array(y_test)\n",
    "\n",
    "    XX_train = []\n",
    "    for imagepath in X_train:\n",
    "        # temp_image=h5py.File(imagepath,'r')\n",
    "        temp_image=scio.loadmat(imagepath)['fc']\n",
    "        XX_train.append(temp_image.flatten())  #reshape into 1D array\n",
    "\n",
    "    # 测试集\n",
    "    XX_test = []\n",
    "    for imagepath in X_test:\n",
    "        # temp_image=h5py.File(imagepath,'r')\n",
    "        temp_image=scio.loadmat(imagepath)['fc']\n",
    "        XX_test.append(temp_image.flatten())\n",
    "        \n",
    "\n",
    "    # clf = DecisionTreeClassifier(random_state=0) #single tree\n",
    "    rfc = RandomForestClassifier(random_state=0) #random tree\n",
    "    # clf = clf.fit(XX_train,y_train)\n",
    "    rfc = rfc.fit(XX_train,y_train)\n",
    "    prediction = rfc.predict(XX_test)  \n",
    "\n",
    "    # score_c = clf.score(XX_test,y_test)\n",
    "    score_r = rfc.score(XX_test,y_test)\n",
    "    # print(\"Single Tree:\",score_c)\n",
    "    print(\"Random Forest:\",score_r)\n",
    "\n",
    "    c_matrix=confusion_matrix(y_test,prediction)\n",
    "    for idm in range(3):\n",
    "        result_index_matrix[kk][0][idm]=c_matrix[idm][idm]/np.sum(c_matrix[:,idm])\n",
    "        result_index_matrix[kk][1][idm]=c_matrix[idm][idm]/np.sum(c_matrix[idm,:])\n",
    "        result_index_matrix[kk][2][idm]=(np.sum(c_matrix)-np.sum(c_matrix[:,idm])-np.sum(c_matrix[idm,:])+c_matrix[idm][idm])/(np.sum(c_matrix)-np.sum(c_matrix[idm,:])) \n",
    "    print(classification_report(y_test, prediction))   \n",
    "    acc = accuracy_score(y_test,prediction)  \n",
    "    print(\"acc: \", acc)\n",
    "    print(result_index_matrix[kk])\n",
    "\n",
    "    result.append(acc)\n",
    "print('mean:{:.4f}  std:{:.4f}'.format(np.mean(result),np.std(result)))\n",
    "mean_matrix=result_index_matrix.sum(dim=0)/k_fold\n",
    "print(mean_matrix)\n",
    "print(mean_matrix.sum(dim=1)/3)\n"
   ]
  }
 ],
 "metadata": {
  "kernelspec": {
   "display_name": "base",
   "language": "python",
   "name": "python3"
  },
  "language_info": {
   "codemirror_mode": {
    "name": "ipython",
    "version": 3
   },
   "file_extension": ".py",
   "mimetype": "text/x-python",
   "name": "python",
   "nbconvert_exporter": "python",
   "pygments_lexer": "ipython3",
   "version": "3.9.12"
  },
  "orig_nbformat": 4,
  "vscode": {
   "interpreter": {
    "hash": "ad2bdc8ecc057115af97d19610ffacc2b4e99fae6737bb82f5d7fb13d2f2c186"
   }
  }
 },
 "nbformat": 4,
 "nbformat_minor": 2
}
