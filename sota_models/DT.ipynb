{
 "cells": [
  {
   "cell_type": "code",
   "execution_count": 7,
   "metadata": {},
   "outputs": [],
   "source": [
    "import torch\n",
    "import numpy as np\n",
    "import pandas as pd\n",
    "import scipy.io as scio\n",
    "from torch.utils.data import Dataset,DataLoader\n",
    "from sklearn.tree import DecisionTreeClassifier\n",
    "from sklearn.metrics import confusion_matrix,accuracy_score, classification_report\n",
    "from sklearn.model_selection import train_test_split\n",
    "import random"
   ]
  },
  {
   "cell_type": "code",
   "execution_count": 8,
   "metadata": {},
   "outputs": [],
   "source": [
    "class MyDataset(Dataset):\n",
    "        def __init__(self,data,topk):\n",
    "            self.data=data\n",
    "            self.topk=topk\n",
    "            self.label={\n",
    "            'T-T':2,\n",
    "            'P-T':1,\n",
    "            'P-P':0\n",
    "            }\n",
    "\n",
    "        def __len__(self):\n",
    "            return len(self.data)\n",
    "\n",
    "        def __getitem__(self, idx):\n",
    "            path_1,label=self.data[idx]\n",
    "            image=scio.loadmat(path_1)['fc']\n",
    "            image=torch.from_numpy(image).float()\n",
    "            label=torch.tensor(self.label[label])\n",
    "            return image,label\n"
   ]
  },
  {
   "cell_type": "code",
   "execution_count": 9,
   "metadata": {},
   "outputs": [],
   "source": [
    "X = []  # 定义图像名称\n",
    "Y = []  # 定义图像分类类标\n",
    "\n",
    "with open('fc_list.txt','r') as f:\n",
    "    data=f.readlines()\n",
    "data=[item.replace('\\n','').split('\\t') for item in data]\n",
    "random.seed(2022)\n",
    "random.shuffle(data)\n",
    "X=[x[0] for x in data]\n",
    "Y=[x[1] for x in data]\n",
    "\n",
    "X = np.array(X)\n",
    "Y = np.array(Y)\n",
    "\n",
    "# 随机率为100% 选取其中的30%作为测试集\n",
    "X_train, X_test, y_train, y_test = train_test_split(X, Y, test_size=0.3, random_state=1)\n",
    "# print(len(X_train), len(X_test), len(y_train), len(y_test))\n",
    "\n",
    "XX_train = []\n",
    "for imagepath in X_train:\n",
    "    # temp_image=h5py.File(imagepath,'r')\n",
    "    temp_image=scio.loadmat(imagepath)['fc']\n",
    "    XX_train.append(temp_image.flatten())  #reshape into 1D array\n",
    "\n",
    "# 测试集\n",
    "XX_test = []\n",
    "for imagepath in X_test:\n",
    "    # temp_image=h5py.File(imagepath,'r')\n",
    "    temp_image=scio.loadmat(imagepath)['fc']\n",
    "    XX_test.append(temp_image.flatten())"
   ]
  },
  {
   "cell_type": "code",
   "execution_count": 10,
   "metadata": {},
   "outputs": [
    {
     "name": "stdout",
     "output_type": "stream",
     "text": [
      "0.7705627705627706\n",
      "tensor([[0.6364, 0.7727, 0.9221],\n",
      "        [0.8116, 0.6145, 0.8987],\n",
      "        [0.8025, 0.8986, 0.9605]])\n",
      "0.7878787878787878\n",
      "tensor([[0.6914, 0.7500, 0.9231],\n",
      "        [0.8116, 0.6506, 0.9114],\n",
      "        [0.8457, 0.8784, 0.9605]])\n",
      "0.8008658008658008\n",
      "tensor([[0.6914, 0.7778, 0.9359],\n",
      "        [0.8116, 0.6747, 0.9241],\n",
      "        [0.8457, 0.8919, 0.9671]])\n",
      "0.7619047619047619\n",
      "tensor([[0.6429, 0.7576, 0.8889],\n",
      "        [0.7826, 0.6024, 0.9114],\n",
      "        [0.8148, 0.8919, 0.9408]])\n",
      "0.7878787878787878\n",
      "tensor([[0.6747, 0.7714, 0.9231],\n",
      "        [0.8116, 0.6506, 0.9114],\n",
      "        [0.8333, 0.8919, 0.9605]])\n",
      "mean:0.7818  std:0.0139\n",
      "tensor([[0.6673, 0.7659, 0.9186],\n",
      "        [0.8058, 0.6386, 0.9114],\n",
      "        [0.8284, 0.8905, 0.9579]])\n",
      "tensor([0.7839, 0.7852, 0.8923])\n"
     ]
    }
   ],
   "source": [
    "result=[]\n",
    "from sklearn.metrics import confusion_matrix\n",
    "result_index_matrix=torch.zeros(5,3,3)\n",
    "for round in range(5):\n",
    "    dtModel = DecisionTreeClassifier()  # 建立模型\n",
    "    dtModel.fit(XX_train,y_train)  \n",
    "    prediction = dtModel.predict(XX_test)  \n",
    "\n",
    "    c_matrix=confusion_matrix(y_test,prediction)\n",
    "    for idm in range(3):\n",
    "        result_index_matrix[round][0][idm]=c_matrix[idm][idm]/np.sum(c_matrix[:,idm])\n",
    "        result_index_matrix[round][1][idm]=c_matrix[idm][idm]/np.sum(c_matrix[idm,:])\n",
    "        result_index_matrix[round][2][idm]=(np.sum(c_matrix)-np.sum(c_matrix[:,idm])-np.sum(c_matrix[idm,:])+c_matrix[idm][idm])/(np.sum(c_matrix)-np.sum(c_matrix[idm,:])) \n",
    "       \n",
    "    acc = accuracy_score(y_test,prediction)  \n",
    "    print(acc)\n",
    "    print(result_index_matrix[round])\n",
    "\n",
    "    result.append(acc)\n",
    "print('mean:{:.4f}  std:{:.4f}'.format(np.mean(result),np.std(result)))\n",
    "mean_matrix=result_index_matrix.sum(dim=0)/5\n",
    "print(mean_matrix)\n",
    "print(mean_matrix.sum(dim=1)/3)"
   ]
  }
 ],
 "metadata": {
  "kernelspec": {
   "display_name": "base",
   "language": "python",
   "name": "python3"
  },
  "language_info": {
   "codemirror_mode": {
    "name": "ipython",
    "version": 3
   },
   "file_extension": ".py",
   "mimetype": "text/x-python",
   "name": "python",
   "nbconvert_exporter": "python",
   "pygments_lexer": "ipython3",
   "version": "3.9.12"
  },
  "orig_nbformat": 4,
  "vscode": {
   "interpreter": {
    "hash": "ad2bdc8ecc057115af97d19610ffacc2b4e99fae6737bb82f5d7fb13d2f2c186"
   }
  }
 },
 "nbformat": 4,
 "nbformat_minor": 2
}
